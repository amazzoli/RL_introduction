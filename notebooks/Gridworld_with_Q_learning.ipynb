{
  "nbformat": 4,
  "nbformat_minor": 0,
  "metadata": {
    "colab": {
      "provenance": [],
      "include_colab_link": true
    },
    "kernelspec": {
      "name": "python3",
      "display_name": "Python 3"
    }
  },
  "cells": [
    {
      "cell_type": "markdown",
      "metadata": {
        "id": "view-in-github",
        "colab_type": "text"
      },
      "source": [
        "<a href=\"https://colab.research.google.com/github/amazzoli/RL_introduction/blob/main/notebooks/Gridworld_with_Q_learning.ipynb\" target=\"_parent\"><img src=\"https://colab.research.google.com/assets/colab-badge.svg\" alt=\"Open In Colab\"/></a>"
      ]
    },
    {
      "cell_type": "markdown",
      "metadata": {
        "id": "lZL615HVdM1Q"
      },
      "source": [
        "# Gridworld\n",
        "\n",
        "*Andrea Mazzolini*, andrea.mazzolini.90@gmail.com.\n",
        "\n",
        "\n",
        "Here we want to find the optimal strategy of a 2d grid-world problem using a model-free reinforcement-learning algorithm: **Q-learning**."
      ]
    },
    {
      "cell_type": "markdown",
      "metadata": {
        "id": "mD8PGgsAMQdZ"
      },
      "source": [
        "## Gridworld as a Markov Decision Process\n",
        "\n",
        "### States\n",
        "The state space is the physical cartesian space of the gridworld, identified by the two coordinates.\n",
        "Assuming that it is a square of side $d$, the whole state space is composed of $d^2$ states:\n",
        "\n",
        "$$\n",
        "\\mathcal{S} = \\{ 0, 1, \\ldots, d-1 \\} \\times \\{ 0, 1, \\ldots, d-1 \\}\n",
        "$$\n",
        "\n",
        "### Actions\n",
        "The actions of the agent are five: they can move to nearest neighbors or stay in the cell without moving, which can be expressed also as translation vectors.\n",
        "\n",
        "$$\n",
        "\\mathcal{A} = \\{ \\text{up}, \\text{left}, \\text{down}, \\text{right}, \\text{stay} \\} = \\{ (0,1), (-1,0), (0,-1), (1,0), (0,0)\\}\n",
        "$$\n",
        "\n",
        "Actually, these actions are not always possible in each state: the agent cannot cross boundaries or possible internal obstacles.\n",
        "This makes actions state dependent, for example if the agent is located on the left boundary they cannot go left, $\\mathcal{A}(0,y) = \\{ \\text{up}, \\text{down}, \\text{right}, \\text{stay} \\}$, or in a corner: $\\mathcal{A}(d-1,d-1) = \\{ \\text{left}, \\text{down}, \\text{stay} \\}$.\n",
        "\n",
        "### Transition probabilities\n",
        "\n",
        "The transition probabilities between states are deterministic: the next state is just the old state plus the translation action chosen by the agent:\n",
        "\n",
        "$$\n",
        "p(s_{t+1} | a_t, s_t) = \\delta (s_{t+1} - (a_t + s_t))\n",
        "$$\n",
        "\n",
        "### Rewards\n",
        "\n",
        "The rewards depend only on the arrival states, $r(s_{t+1})$, and are zero for all the states with the exception of some special cells that contain a treasure.\n",
        "Here we decide to not delete the treasure after the agent arrives on the cell, in a way that if they decide to stay they can collect the reward also at the future steps.\n",
        "\n",
        "### Aim of the game\n",
        "\n",
        "The agent has to learn to get the treasure by following the fastest path from a given initial cell.\n",
        "In formula, we want to maximize the return\n",
        "\n",
        "$$\n",
        "G_\\pi = \\sum_{t=0}^\\infty \\gamma^t\\, R_{t,\\pi} ,\n",
        "$$\n",
        "\n",
        "where $\\gamma$, the time horizon, introduces the time scale within which we want to acquire the treasure and $R$ is the stochastic variable corresponding to the reward acquired at time $t$ following the policy $\\pi$.\n",
        "The policy $\\pi(a | s)$ is our strategy that gives the probability of choosing $a \\in \\mathcal{A}(s)$ (the direction of the next step) from state $s$ (the coordinate in which we are), therefore is telling us how to navigate the map."
      ]
    },
    {
      "cell_type": "markdown",
      "metadata": {
        "id": "p53uRswnMVGv"
      },
      "source": [
        "## Q-learning\n",
        "\n",
        "Q-learning is a reinforcement learning algorithm for any finite Markov Decision Processes (state and action space must be discrete and finite), which can converge to an optimal policy for maximizing an exponentially discounted return.\n",
        "It does not require a model (hence the connotation \"model-free\") of the environment and it just tries and learns from experience.\n",
        "For a \"model\" we mean the knowledge of the transition probabilities and reward function of the MDP. Differently, Value Iteration relies on this information.\n",
        "\n",
        "### Table for the state-action qualities\n",
        "\n",
        "The general idea is to build a table of estimates of \"goodness\" of each state and action pairs.\n",
        "This goodness of state $s$ and action $a$ is called quality function $Q^*(s,a)$, and it is the best possible return the agent can get from $s$ choosing $a$.\n",
        "\n",
        "$$\n",
        "Q^*(s,a) = \\max_{\\pi} \\; \\mathbb{E}_\\pi\\left[ G_\\pi \\; \\Big| \\; s_0 = s, \\; a_0 = a \\right]\n",
        "$$\n",
        "\n",
        "We then call ${Q}(s, a)$ (without star) quality table or quality matrix, our estimate for that function.\n",
        "It can be proven that, when the algorithm converges: $ Q(s,a) \\rightarrow Q^*(s,a)$.\n",
        "\n",
        "By assuming that $Q$ is a good estimate of $Q^*$, the best policy is deterministic and consists in choosing the action that leads to the best possible return:\n",
        "\n",
        "$$\n",
        "\\pi^*(a | s) = \\delta (a - \\text{argmax}_{b \\in \\mathcal{A}} Q(s,b))\n",
        "$$\n",
        "\n",
        "### Finding the quality matrix\n",
        "\n",
        "The core of the algorithm is a simple online quality update that in the long run will make our quality table converge to the best quality function.\n",
        "\n",
        "At time $t$ the learning agent is in the state $s_t$ and takes the action $a_t$ (later we specify how to choose the action). As a consequence it moves to a new state $S_{t+1}$ taking the reward $R_t$. Note that $S_{t+1}$ and $R_t$ are stochastic outcomes of the MDP (this is why they are written in capital letters), depending on the transition probabilities and the policy.\n",
        "The Q-learning update rule for the Quality is:\n",
        "\n",
        "$$\n",
        "Q(s_t, a_t) \\leftarrow Q(s_t, a_t) + \\alpha \\left(R_t + \\gamma \\max_{b \\in \\mathcal{A}} Q(S_{t+1}, b) - Q(s_t, a_t)\\right)\n",
        "$$\n",
        "\n",
        "where $\\gamma$ is the discount factor and $\\alpha$ is a learning rate.\n",
        "\n",
        "Note that there is a reason for the update rule above to work.\n",
        "It is leading to a stable fixed point that is given by setting to zero the quantity in the parenthesis, which corresponds to\n",
        "\n",
        "$$\n",
        "Q(s_t, a_t) = R_t + \\gamma \\max_{b \\in \\mathcal{A}} Q(S_{t+1}, b) .\n",
        "$$\n",
        "\n",
        "This equation, that the update rule wants to satisfy, is a close relative of  the Bellman equation, $Q(s_t, a_t)^* = \\mathbb{E} \\left[ r_t + \\gamma \\max_b Q^*(s_{t+1}, b) \\right] $, which is satisfied for the optimal policy.\n",
        "There is however a small difference between the two: the Bellman equation has an average value over all the possible trajectories of our process, which can lead to different rewards and new states.\n",
        "The update rule considers only the single sample that we are seeing at that instance of the process.\n",
        "However, one can imagine that if we pass several times from the same state and action, in the limit of small learning rate, the update rule will average over all of them.\n",
        "In other words, the update rule for Q-learning implements the Bellman equation that will lead to the right quality function.\n",
        "\n",
        "\n",
        "### Pseudocode for Q-learning\n",
        "\n",
        "The algorithm consists in starting from an initial configuration for the quality table (e.g. all the entries for $s$ and $a$ have the same value), and then \"play the game\":\n",
        "$$\n",
        "s_0, a_0 \\rightarrow r_0, s_1, a_1 \\rightarrow r_1, s_2, a_2 \\rightarrow \\ldots\n",
        "$$\n",
        "The quality table will be updated at every step with the rule above.\n",
        "\n",
        "We still have to specify how to choose actions. Here we consider a simple and widely used protocol called *epsilon-greedy*. Let us define two way of choosing the action:\n",
        "- **Exploration** move, where the action is chosen uniformly at random among the possible actions from the state in which the agent is.\n",
        "- **Exploitation** move, where the action is taken as the one that maximizes my current qualities, which is the best action that I can take according to my estimates of the returns, $a_t = \\text{argmax}_b Q(s_t, b)$.\n",
        "\n",
        "An epsilon-greedy strategy says that the exploration move is chosen with probability $\\epsilon$, and the exploitation move with $1 - ϵ$.\n",
        "\n",
        "Putting everything together, the core series of instructions for an epsilon-greedy Q-learning algorithm is the following:\n",
        "\n",
        " - Initialize the Q-matrix and choose the algorithm parameters $\\gamma$, $\\alpha$, $\\epsilon$.\n",
        " - Set the agent in the starting state $s_0$.\n",
        " - For $t = 1, \\ldots$ until convergence:\n",
        "> - With probability $\\epsilon$ choose $a_t$ at random from the possible actions, otherwise choose the action that maximizes the qualities $a_t = \\text{argmax}_b Q(s_t, b)$.\n",
        "> - Play a step in the game and get the new state and the reward $s_t, a_t \\rightarrow S_{t+1}, R_t$\n",
        "> - Update the quality matrix\n",
        "> $$\n",
        "Q(s_t, a_t) \\leftarrow Q(s_t, a_t) + \\alpha \\left(R_t + \\gamma \\max_b Q(S_{t+1}, b) - Q(s_t, a_t)\\right)\n",
        "$$\n",
        "\n",
        "### Episodic game and exploration scheduling\n",
        "\n",
        "Actually one usually introduces two tricks to speed up the covergence of the quality table.\n",
        "\n",
        "The first is to restart the game after a given number of steps (the state is forced to be $s_0$ again). Each of these runs is called episode. This is natural if there are terminal states and, at some point, the game finishes, but this is not our case. For us, this comes in handy bacause we can imagine that we are interested in a particular initial condition (the initial cell in which we put our agent). In this way, I force the algorithm to explore more around there and have better estimates of the quality.\n",
        "\n",
        "A second trick is to schedule the exporation parameter $\\epsilon$. Usually, I want the exploration to be large at the beginning, to have an approximate idea of all the possible qualities. Later, when I'm more confident about their values I want instead to focus on the best moves to have more fine-tuned estimates of them, forgetting about the bad actions.\n",
        "This transition from explortation to exploitation is typical of reinforcement learning. Quantitative and precise prescriptions on how to do it in practice typically are available only for extremely simple problems, and choosing the right protocol in general is more of an art than a science.\n",
        "\n",
        "Rewriting the pseudocode above we have:\n",
        "\n",
        " - Initialize the Q-matrix and choose the algorithm parameters $\\gamma$, $\\alpha$, $T_{episode}$ and how to schedule the exploration probability $ϵ_e$ ($e$ is the episode index).\n",
        "> For episodes $e = 1, \\ldots$ until convergence:\n",
        "> - Set the agent in the starting state $s_0$.\n",
        "> - For steps in the episode $t = 1, \\ldots, T_{episode}$:\n",
        ">> - With probability $\\epsilon_e$ choose $a_t$ at random from the possible actions, otherwise choose the action that maximizes the Qualities $a_t = \\text{argmax}_b Q(s_t, b)$.\n",
        ">> - Play a step in the game and get the new state and the reward $s_t, a_t \\rightarrow S_{t+1}, R_t$\n",
        ">> - Update the quality matrix\n",
        ">> $$\n",
        "Q(s_t, a_t) \\leftarrow Q(s_t, a_t) + \\alpha \\left(R_t + \\gamma \\max_b Q(S_{t+1}, b) - Q(s_t, a_t)\\right)\n",
        "$$\n",
        "> - Decrease the exploration rate $\\epsilon_e$."
      ]
    },
    {
      "cell_type": "markdown",
      "metadata": {
        "id": "x-Xp8OIAhgVB"
      },
      "source": [
        "## Implementation\n",
        "\n",
        "### Environment class: the gridworld\n",
        "\n",
        "The Gridworld class contains all the information about the environment:\n",
        "- The info about the state space, the current state of the game and the initial state.\n",
        "- The set of possible actions.\n",
        "- The reward table: which reward the agent take in each cell (0 if none).\n",
        "\n",
        "The methods are:\n",
        "- `reset()`: the game is initialized at the beginning of a episode. Here the only initialization is to put the agent in the starting cell.\n",
        "- `step(action)`: update the agent state according to the `action` passed and compute reward. Returns the state after the transition (the movement) and the reward.\n"
      ]
    },
    {
      "cell_type": "code",
      "metadata": {
        "id": "BsmmSoZhhiqW",
        "cellView": "code"
      },
      "source": [
        "import numpy as np\n",
        "from copy import copy\n",
        "import sys\n",
        "import seaborn as sns\n",
        "import matplotlib.pyplot as plt\n",
        "from matplotlib import colormaps as cm\n",
        "\n",
        "\n",
        "class Gridworld:\n",
        "\n",
        "  def __init__(self, grid_size, init_cell, rewards, obstacles=[]):\n",
        "    \"\"\"\n",
        "    Training environment for reinforcement learning: gridworld.\n",
        "    Args:\n",
        "    - grid_size, (int, int): defining the size of the 2d lattice\n",
        "    - init_cell, (int, int): coordinates from 0 to size-1 from which the agent starts to play\n",
        "    - rewards, list((int, int), float): list of the coordinates and values of the rewards\n",
        "    - obstacles, lits((int, int)): list of the coordinates of the obstacles\n",
        "    \"\"\"\n",
        "\n",
        "    # Define state space\n",
        "    self.state = None  # current state of the game\n",
        "    self.state_dim = grid_size\n",
        "    self.init_state = init_cell\n",
        "    self.obstacles = obstacles\n",
        "    # Cells that are not obstacles\n",
        "    self.states = [(i,j) for i in range(self.state_dim[0]) for j in range(self.state_dim[1]) if (i,j) not in self.obstacles]\n",
        "\n",
        "    # Define action space\n",
        "    self.action_dim = (5,)  # up, right, down, left, stay\n",
        "    self.action_dict = {\"up\": 0, \"right\": 1, \"down\": 2, \"left\": 3, \"stay\": 4}\n",
        "    self.action_coords = [(0, 1), (1, 0), (0, -1), (-1, 0), (0, 0)]  # translations\n",
        "    self.actions_allowed = self._build_allowed_actions(obstacles)\n",
        "\n",
        "    # Define rewards table\n",
        "    self.R = self._build_rewards(rewards)\n",
        "\n",
        "\n",
        "  def reset(self):\n",
        "    \"\"\"Reset agent state to its initial cell\"\"\"\n",
        "    self.state = self.init_state\n",
        "    return self.state\n",
        "\n",
        "\n",
        "  def step(self, action):\n",
        "    \"\"\"Update agent state\"\"\"\n",
        "    state_next = (self.state[0] + self.action_coords[action][0],\n",
        "                  self.state[1] + self.action_coords[action][1])\n",
        "    # Collect reward\n",
        "    reward = self.R[self.state]\n",
        "    # Update state\n",
        "    self.state = state_next\n",
        "    return state_next, reward\n",
        "\n",
        "\n",
        "  def _build_allowed_actions(self, obstacles):\n",
        "    actions_allowed = dict()\n",
        "    Nx, Ny = self.state_dim\n",
        "    for x in range(Nx):\n",
        "      for y in range(Ny):\n",
        "        # Actions not allowed at the boundaries\n",
        "        actions_allowed[(x,y)] = [self.action_dict[\"stay\"]] # The stay action is always allowed\n",
        "        if (y > 0):\n",
        "          actions_allowed[(x,y)].append(self.action_dict[\"down\"])\n",
        "        if (y < Ny - 1):\n",
        "          actions_allowed[(x,y)].append(self.action_dict[\"up\"])\n",
        "        if (x > 0):\n",
        "          actions_allowed[(x,y)].append(self.action_dict[\"left\"])\n",
        "        if (x < Nx - 1):\n",
        "          actions_allowed[(x,y)].append(self.action_dict[\"right\"])\n",
        "        actions_allowed[(x,y)] = np.array(actions_allowed[(x,y)], dtype=int)\n",
        "        # Actions not allowed because of obstacles\n",
        "        for o in obstacles:\n",
        "          if (x+1,y) == o:\n",
        "            actions_allowed[(x,y)] = actions_allowed[(x,y)][actions_allowed[(x,y)] != self.action_dict[\"right\"]]\n",
        "          if (x-1,y) == o:\n",
        "            actions_allowed[(x,y)] = actions_allowed[(x,y)][actions_allowed[(x,y)] != self.action_dict[\"left\"]]\n",
        "          if (x,y+1) == o:\n",
        "            actions_allowed[(x,y)] = actions_allowed[(x,y)][actions_allowed[(x,y)] != self.action_dict[\"up\"]]\n",
        "          if (x,y-1) == o:\n",
        "            actions_allowed[(x,y)] = actions_allowed[(x,y)][actions_allowed[(x,y)] != self.action_dict[\"down\"]]\n",
        "    return actions_allowed\n",
        "\n",
        "\n",
        "  def _build_rewards(self, rewards):\n",
        "      R = np.zeros(self.state_dim, dtype=float)\n",
        "      for rew in rewards:\n",
        "        R[rew[0]] = rew[1]\n",
        "      return R\n",
        "\n",
        "  def display(self, ax, values=np.array([]), cmap=cm[\"Reds\"]):\n",
        "    \"\"\"\n",
        "    Plot the map on the axis object ax. It's possible to add a color to each cell, e.g. its value,\n",
        "    by passing a properly sized vectors of values\n",
        "    \"\"\"\n",
        "\n",
        "    cmap.set_bad(\"black\")\n",
        "    obstacle_mask = np.zeros(self.state_dim, dtype=bool)\n",
        "    for obs in obstacles:\n",
        "      obstacle_mask[obs[0], obs[1]] = True\n",
        "\n",
        "    if len(values)==0:\n",
        "      ax = sns.heatmap(obstacle_mask.T, cmap=cm[\"Greys\"], cbar=False,\n",
        "                       linewidths=0.1, linecolor='#222222')\n",
        "    else:\n",
        "      ax = sns.heatmap(values.T, mask=obstacle_mask.T, cmap=cmap,\n",
        "                       linewidths=0.1, linecolor='#222222', vmin=np.min(values[values != 0]))\n",
        "      ax.collections[0].colorbar.set_label(\"Value\", fontsize=14)\n",
        "\n",
        "    ax.invert_yaxis()\n",
        "    ax.set_xlabel('x', fontsize=14)\n",
        "    ax.set_ylabel('y', fontsize=14)\n",
        "    ax.scatter([start_cell[0]+0.5],[start_cell[1]+0.5], s=100, c='grey', label='Start')\n",
        "    for rew in rewards:\n",
        "      ax.scatter([rew[0][0]+0.5],[rew[0][1]+0.5], s=200*rew[1], c='#ffcc00', label='Reward:{}'.format(rew[1]), marker='*')\n",
        "\n",
        "    return ax\n",
        "\n",
        "\n",
        "  def display_best_path(self, ax, Q, start_coord, lcolor='black', values=np.array([]), cmap=cm[\"Reds\"]):\n",
        "    \"\"\"\n",
        "    Plot the map and display the best path on the axis object ax.\n",
        "    \"\"\"\n",
        "\n",
        "    ax = self.display(ax, values, cmap)\n",
        "\n",
        "    s, count, best_action = start_coord, 0, 0\n",
        "    while best_action != 4 or count < self.state_dim[0]*self.state_dim[1]:\n",
        "      count += 1\n",
        "      best_action = np.argmax(Q[s[0], s[1], :])\n",
        "      new_s = s[0] + self.action_coords[best_action][0], s[1] + self.action_coords[best_action][1]\n",
        "      ax.plot([s[0]+0.5, new_s[0]+0.5], [s[1]+0.5, new_s[1]+0.5], c='black', lw=3)\n",
        "      s = new_s\n",
        "\n",
        "    return ax"
      ],
      "execution_count": 1,
      "outputs": []
    },
    {
      "cell_type": "markdown",
      "metadata": {
        "id": "PpXsKTUAMpbw"
      },
      "source": [
        "### Building the gridworld\n",
        "\n",
        "As stated before, we build a griword with two rewards: one large and far away from the starting state, one smaller and closer."
      ]
    },
    {
      "cell_type": "code",
      "metadata": {
        "id": "DzkBQx_mMn_-",
        "outputId": "63f7459a-be48-4b64-f42c-8e8e338acd60",
        "colab": {
          "base_uri": "https://localhost:8080/",
          "height": 487
        }
      },
      "source": [
        "world_size = (10,12) # dimension of the gridworld\n",
        "\n",
        "start_cell = (2,3)\n",
        "obstacles = [(2,5), (3,5), (4,5), (5,5), (5,4), (5,3), (5,2), (5,1), (5,0),\n",
        "             (7,4), (7,5), (7,6), (7,7)]\n",
        "#rewards = [((8,6), 2), ((5, 10), 1)]\n",
        "rewards = [((5, 10), 1)]\n",
        "\n",
        "gridworld = Gridworld(world_size, start_cell, rewards, obstacles) # Building the world\n",
        "\n",
        "fig, ax = plt.subplots(figsize=(world_size[0]/2.5, world_size[1]/2.5))\n",
        "ax = gridworld.display(ax) # And showing it\n",
        "\n",
        "plt.tight_layout()\n",
        "#plt.savefig('Gridwrold.png', dpi=200)"
      ],
      "execution_count": 2,
      "outputs": [
        {
          "output_type": "display_data",
          "data": {
            "text/plain": [
              "<Figure size 400x480 with 1 Axes>"
            ],
            "image/png": "[encoded data removed]"
          },
          "metadata": {}
        }
      ]
    },
    {
      "cell_type": "markdown",
      "metadata": {
        "id": "dWmKisyJIfKG"
      },
      "source": [
        "## Agent class: the Q-learning algorithm\n",
        "\n",
        "\n",
        "This class defines how the agent chooses the action from each state and how to improve its strategy while playing.\n",
        "It employs a Q-learning algorithm with an epsilon-greedy policy.\n",
        "In particular:\n",
        "- `get_action(state)` returns an action using the epsilon greedy rule from a state.\n",
        "- `train(transition)` performs one step of the Q-learning update according to a transition of the game that consists in state, action, next state nad reward."
      ]
    },
    {
      "cell_type": "code",
      "metadata": {
        "id": "4OhtaVbMiLWu"
      },
      "source": [
        "import operator\n",
        "\n",
        "class QL_agent:\n",
        "\n",
        "  def __init__(self, env, gamma, learning_rate=0.1, eps_decay=0.995, init_Q=0):\n",
        "\n",
        "    # Store the environment\n",
        "    self.env = env\n",
        "\n",
        "    # Agent learning parameters\n",
        "    self.epsilon = 1.0  # initial exploration probability\n",
        "    self.epsilon_decay = eps_decay  # epsilon decay after each episode\n",
        "    self.alpha = learning_rate\n",
        "    self.gamma = gamma  # reward discount factor\n",
        "\n",
        "    # Initialize Quality matrix\n",
        "    self.Q = np.ones(env.state_dim + env.action_dim, dtype=float)*init_Q\n",
        "\n",
        "\n",
        "  def get_action(self, state):\n",
        "    \"\"\"\n",
        "    Choose an action using an epsilon greedy policy: random with probability\n",
        "    epsilon, greedy otherwise.\n",
        "    \"\"\"\n",
        "    actions_allowed = self.env.actions_allowed[state]\n",
        "    if np.random.rand() < self.epsilon:  # explore\n",
        "      return np.random.choice(actions_allowed)\n",
        "    else:  # exploit\n",
        "      Q_s = self.Q[state[0], state[1], actions_allowed]\n",
        "      actions_greedy = actions_allowed[np.flatnonzero(Q_s == np.max(Q_s))]\n",
        "      return np.random.choice(actions_greedy)\n",
        "\n",
        "\n",
        "  def train(self, transition):\n",
        "    \"\"\"\n",
        "    Q-learning update\n",
        "    \"\"\"\n",
        "    (state, action, state_next, reward) = transition\n",
        "    sa = state + (action,)\n",
        "    td_error = reward + gamma * np.max(self.Q[state_next]) - self.Q[sa]\n",
        "    self.Q[sa] += self.alpha * td_error\n",
        "\n",
        "  @property\n",
        "  def values(self):\n",
        "    vals = np.zeros(self.env.state_dim)\n",
        "    for i in range(len(self.Q)):\n",
        "      for j in range(len(self.Q[0])):\n",
        "        vals[i,j] = np.max(self.Q[i,j])\n",
        "    return vals\n",
        "\n",
        "  def display_greedy_policy(self):\n",
        "    greedy_policy = np.zeros((self.env.state_dim[0], self.env.state_dim[1]), dtype=str)\n",
        "    for x in range(self.env.state_dim[0]):\n",
        "        for y in range(self.env.state_dim[1]):\n",
        "            greedy_policy[x, y] = str(np.argmax(self.Q[x, y, :]))\n",
        "    for o in obstacles:\n",
        "      greedy_policy[o[0],o[1]] = 'x'\n",
        "    print(\"\\nGreedy policy for gamma={}:\".format(self.gamma))\n",
        "    print(greedy_policy.T[::-1])\n",
        "    for (key, val) in sorted(self.env.action_dict.items(), key=operator.itemgetter(1)):\n",
        "      print(\" action['{}'] = {}\".format(key, val))\n",
        "    print(\"x: obstacle\")"
      ],
      "execution_count": 3,
      "outputs": []
    },
    {
      "cell_type": "markdown",
      "metadata": {
        "id": "sTLYP-ZZMCvB"
      },
      "source": [
        "### Main learning cycle\n",
        "\n",
        "It follows the pseudocode written before."
      ]
    },
    {
      "cell_type": "code",
      "metadata": {
        "id": "IL3KcsznilZl",
        "outputId": "3ee174e7-7343-4ddf-b4ab-520366f89fc5",
        "colab": {
          "base_uri": "https://localhost:8080/"
        }
      },
      "source": [
        "n_episodes = 1000\n",
        "n_steps_in_episode = 100\n",
        "eps_decay = 0.995 # Multiplicative decay factor for the exploration rate\n",
        "gamma = 0.9\n",
        "learning_rate=0.1\n",
        "\n",
        "agent = QL_agent(gridworld, gamma, learning_rate, eps_decay)\n",
        "\n",
        "# Iteration over all the episodes\n",
        "for episode in range(n_episodes):\n",
        "\n",
        "  state = gridworld.reset() # Setting the agent in the initial cell\n",
        "\n",
        "  for _ in range(n_steps_in_episode):\n",
        "    action = agent.get_action(state)  # get action\n",
        "    state_next, reward = gridworld.step(action)  # evolve state by action\n",
        "    agent.train((state, action, state_next, reward)) # train agent\n",
        "    state = state_next  # transition to next state\n",
        "\n",
        "  agent.epsilon = max(agent.epsilon * agent.epsilon_decay, 0.02) # Decrease the exploration\n",
        "  # Show training info\n",
        "  sys.stdout.write(\"\\rEpisode: \" + str(episode+1) + \"/\" + str(n_episodes) + \" epsilon: \" + str(agent.epsilon))\n",
        "  sys.stdout.flush()"
      ],
      "execution_count": 4,
      "outputs": [
        {
          "output_type": "stream",
          "name": "stdout",
          "text": [
            "Episode: 1000/1000 epsilon: 0.02"
          ]
        }
      ]
    },
    {
      "cell_type": "code",
      "metadata": {
        "id": "NX48tyD45ihm",
        "outputId": "19094c04-033a-49e3-8eaa-f921e1219f5a",
        "colab": {
          "base_uri": "https://localhost:8080/",
          "height": 477
        }
      },
      "source": [
        "fig, ax = plt.subplots(figsize=(world_size[0]/2.5 + 1, world_size[1]/2.5))\n",
        "gridworld.display_best_path(ax, agent.Q, start_cell, values=agent.values)"
      ],
      "execution_count": 5,
      "outputs": [
        {
          "output_type": "execute_result",
          "data": {
            "text/plain": [
              "<Axes: xlabel='x', ylabel='y'>"
            ]
          },
          "metadata": {},
          "execution_count": 5
        },
        {
          "output_type": "display_data",
          "data": {
            "text/plain": [
              "<Figure size 500x480 with 2 Axes>"
            ],
            "image/png": "[encoded data removed]"
          },
          "metadata": {}
        }
      ]
    },
    {
      "cell_type": "markdown",
      "metadata": {
        "id": "mXUztOe-JQL_"
      },
      "source": [
        "### Tasks\n",
        "\n",
        "- Try to change the exploration decay rate and see how a more \"exploitative\" or \"explorative\" protocols do. What do you notice? What are the pros and cons of the two?\n",
        "\n",
        "- Can you build a new map with one close small reward and one far away and large? Can you find two gammas such that for one value the agent prefers the small and for the other the large reward?\n",
        "Be careful of the learning parameters, if you complexify the system, you will probably need more episodes or explore more..."
      ]
    },
    {
      "cell_type": "code",
      "metadata": {
        "id": "J_SAOqmelo9A"
      },
      "source": [],
      "execution_count": 5,
      "outputs": []
    }
  ]
}