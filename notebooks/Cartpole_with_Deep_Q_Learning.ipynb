{
  "cells": [
    {
      "cell_type": "markdown",
      "metadata": {
        "id": "view-in-github",
        "colab_type": "text"
      },
      "source": [
        "<a href=\"https://colab.research.google.com/github/amazzoli/RL_introduction/blob/main/notebooks/Cartpole_with_Deep_Q_Learning.ipynb\" target=\"_parent\"><img src=\"https://colab.research.google.com/assets/colab-badge.svg\" alt=\"Open In Colab\"/></a>"
      ]
    },
    {
      "cell_type": "markdown",
      "id": "8d4f2d8f",
      "metadata": {
        "id": "8d4f2d8f"
      },
      "source": [
        "# Cart-pole with Deep Q-learning\n",
        "\n",
        "Adapted from https://pytorch.org/tutorials/intermediate/reinforcement_q_learning.html\n",
        "\n",
        "The cart-pole environment is provided by the Open-AI project gymnasium: https://gymnasium.farama.org/environments/classic_control/cart_pole/"
      ]
    },
    {
      "cell_type": "code",
      "source": [
        "# Installing the training environments in which we'll find the cartpole\n",
        "!pip install gymnasium[classic-control]\n",
        "\n",
        "# Dependencies for rendering the environments\n",
        "!pip install pyvirtualdisplay\n",
        "!sudo apt-get install -y xvfb ffmpeg\n",
        "!sudo apt-get install xvfb"
      ],
      "metadata": {
        "id": "EgDzqu0hH-dJ",
        "colab": {
          "base_uri": "https://localhost:8080/"
        },
        "outputId": "49dc9174-ec5c-4fab-95f6-92de8203cee9"
      },
      "id": "EgDzqu0hH-dJ",
      "execution_count": 1,
      "outputs": [
        {
          "output_type": "stream",
          "name": "stdout",
          "text": [
            "Collecting gymnasium[classic-control]\n",
            "  Downloading gymnasium-0.29.1-py3-none-any.whl (953 kB)\n",
            "\u001b[2K     \u001b[90m━━━━━━━━━━━━━━━━━━━━━━━━━━━━━━━━━━━━━━━━\u001b[0m \u001b[32m953.9/953.9 kB\u001b[0m \u001b[31m5.1 MB/s\u001b[0m eta \u001b[36m0:00:00\u001b[0m\n",
            "\u001b[?25hRequirement already satisfied: numpy>=1.21.0 in /usr/local/lib/python3.10/dist-packages (from gymnasium[classic-control]) (1.25.2)\n",
            "Requirement already satisfied: cloudpickle>=1.2.0 in /usr/local/lib/python3.10/dist-packages (from gymnasium[classic-control]) (2.2.1)\n",
            "Requirement already satisfied: typing-extensions>=4.3.0 in /usr/local/lib/python3.10/dist-packages (from gymnasium[classic-control]) (4.11.0)\n",
            "Collecting farama-notifications>=0.0.1 (from gymnasium[classic-control])\n",
            "  Downloading Farama_Notifications-0.0.4-py3-none-any.whl (2.5 kB)\n",
            "Requirement already satisfied: pygame>=2.1.3 in /usr/local/lib/python3.10/dist-packages (from gymnasium[classic-control]) (2.5.2)\n",
            "Installing collected packages: farama-notifications, gymnasium\n",
            "Successfully installed farama-notifications-0.0.4 gymnasium-0.29.1\n",
            "Collecting pyvirtualdisplay\n",
            "  Downloading PyVirtualDisplay-3.0-py3-none-any.whl (15 kB)\n",
            "Installing collected packages: pyvirtualdisplay\n",
            "Successfully installed pyvirtualdisplay-3.0\n",
            "Reading package lists... Done\n",
            "Building dependency tree... Done\n",
            "Reading state information... Done\n",
            "ffmpeg is already the newest version (7:4.4.2-0ubuntu0.22.04.1).\n",
            "The following additional packages will be installed:\n",
            "  libfontenc1 libxfont2 libxkbfile1 x11-xkb-utils xfonts-base xfonts-encodings\n",
            "  xfonts-utils xserver-common\n",
            "The following NEW packages will be installed:\n",
            "  libfontenc1 libxfont2 libxkbfile1 x11-xkb-utils xfonts-base xfonts-encodings\n",
            "  xfonts-utils xserver-common xvfb\n",
            "0 upgraded, 9 newly installed, 0 to remove and 45 not upgraded.\n",
            "Need to get 7,813 kB of archives.\n",
            "After this operation, 11.9 MB of additional disk space will be used.\n",
            "Get:1 http://archive.ubuntu.com/ubuntu jammy/main amd64 libfontenc1 amd64 1:1.1.4-1build3 [14.7 kB]\n",
            "Get:2 http://archive.ubuntu.com/ubuntu jammy/main amd64 libxfont2 amd64 1:2.0.5-1build1 [94.5 kB]\n",
            "Get:3 http://archive.ubuntu.com/ubuntu jammy/main amd64 libxkbfile1 amd64 1:1.1.0-1build3 [71.8 kB]\n",
            "Get:4 http://archive.ubuntu.com/ubuntu jammy/main amd64 x11-xkb-utils amd64 7.7+5build4 [172 kB]\n",
            "Get:5 http://archive.ubuntu.com/ubuntu jammy/main amd64 xfonts-encodings all 1:1.0.5-0ubuntu2 [578 kB]\n",
            "Get:6 http://archive.ubuntu.com/ubuntu jammy/main amd64 xfonts-utils amd64 1:7.7+6build2 [94.6 kB]\n",
            "Get:7 http://archive.ubuntu.com/ubuntu jammy/main amd64 xfonts-base all 1:1.0.5 [5,896 kB]\n",
            "Get:8 http://archive.ubuntu.com/ubuntu jammy-updates/main amd64 xserver-common all 2:21.1.4-2ubuntu1.7~22.04.10 [28.5 kB]\n",
            "Get:9 http://archive.ubuntu.com/ubuntu jammy-updates/universe amd64 xvfb amd64 2:21.1.4-2ubuntu1.7~22.04.10 [863 kB]\n",
            "Fetched 7,813 kB in 0s (18.2 MB/s)\n",
            "debconf: unable to initialize frontend: Dialog\n",
            "debconf: (No usable dialog-like program is installed, so the dialog based frontend cannot be used. at /usr/share/perl5/Debconf/FrontEnd/Dialog.pm line 78, <> line 9.)\n",
            "debconf: falling back to frontend: Readline\n",
            "debconf: unable to initialize frontend: Readline\n",
            "debconf: (This frontend requires a controlling tty.)\n",
            "debconf: falling back to frontend: Teletype\n",
            "dpkg-preconfigure: unable to re-open stdin: \n",
            "Selecting previously unselected package libfontenc1:amd64.\n",
            "(Reading database ... 121918 files and directories currently installed.)\n",
            "Preparing to unpack .../0-libfontenc1_1%3a1.1.4-1build3_amd64.deb ...\n",
            "Unpacking libfontenc1:amd64 (1:1.1.4-1build3) ...\n",
            "Selecting previously unselected package libxfont2:amd64.\n",
            "Preparing to unpack .../1-libxfont2_1%3a2.0.5-1build1_amd64.deb ...\n",
            "Unpacking libxfont2:amd64 (1:2.0.5-1build1) ...\n",
            "Selecting previously unselected package libxkbfile1:amd64.\n",
            "Preparing to unpack .../2-libxkbfile1_1%3a1.1.0-1build3_amd64.deb ...\n",
            "Unpacking libxkbfile1:amd64 (1:1.1.0-1build3) ...\n",
            "Selecting previously unselected package x11-xkb-utils.\n",
            "Preparing to unpack .../3-x11-xkb-utils_7.7+5build4_amd64.deb ...\n",
            "Unpacking x11-xkb-utils (7.7+5build4) ...\n",
            "Selecting previously unselected package xfonts-encodings.\n",
            "Preparing to unpack .../4-xfonts-encodings_1%3a1.0.5-0ubuntu2_all.deb ...\n",
            "Unpacking xfonts-encodings (1:1.0.5-0ubuntu2) ...\n",
            "Selecting previously unselected package xfonts-utils.\n",
            "Preparing to unpack .../5-xfonts-utils_1%3a7.7+6build2_amd64.deb ...\n",
            "Unpacking xfonts-utils (1:7.7+6build2) ...\n",
            "Selecting previously unselected package xfonts-base.\n",
            "Preparing to unpack .../6-xfonts-base_1%3a1.0.5_all.deb ...\n",
            "Unpacking xfonts-base (1:1.0.5) ...\n",
            "Selecting previously unselected package xserver-common.\n",
            "Preparing to unpack .../7-xserver-common_2%3a21.1.4-2ubuntu1.7~22.04.10_all.deb ...\n",
            "Unpacking xserver-common (2:21.1.4-2ubuntu1.7~22.04.10) ...\n",
            "Selecting previously unselected package xvfb.\n",
            "Preparing to unpack .../8-xvfb_2%3a21.1.4-2ubuntu1.7~22.04.10_amd64.deb ...\n",
            "Unpacking xvfb (2:21.1.4-2ubuntu1.7~22.04.10) ...\n",
            "Setting up libfontenc1:amd64 (1:1.1.4-1build3) ...\n",
            "Setting up xfonts-encodings (1:1.0.5-0ubuntu2) ...\n",
            "Setting up libxkbfile1:amd64 (1:1.1.0-1build3) ...\n",
            "Setting up libxfont2:amd64 (1:2.0.5-1build1) ...\n",
            "Setting up x11-xkb-utils (7.7+5build4) ...\n",
            "Setting up xfonts-utils (1:7.7+6build2) ...\n",
            "Setting up xfonts-base (1:1.0.5) ...\n",
            "Setting up xserver-common (2:21.1.4-2ubuntu1.7~22.04.10) ...\n",
            "Setting up xvfb (2:21.1.4-2ubuntu1.7~22.04.10) ...\n",
            "Processing triggers for man-db (2.10.2-1) ...\n",
            "Processing triggers for fontconfig (2.13.1-4.2ubuntu5) ...\n",
            "Processing triggers for libc-bin (2.35-0ubuntu3.4) ...\n",
            "/sbin/ldconfig.real: /usr/local/lib/libtbbbind_2_0.so.3 is not a symbolic link\n",
            "\n",
            "/sbin/ldconfig.real: /usr/local/lib/libtbbbind_2_5.so.3 is not a symbolic link\n",
            "\n",
            "/sbin/ldconfig.real: /usr/local/lib/libtbbmalloc.so.2 is not a symbolic link\n",
            "\n",
            "/sbin/ldconfig.real: /usr/local/lib/libtbbmalloc_proxy.so.2 is not a symbolic link\n",
            "\n",
            "/sbin/ldconfig.real: /usr/local/lib/libtbbbind.so.3 is not a symbolic link\n",
            "\n",
            "/sbin/ldconfig.real: /usr/local/lib/libtbb.so.12 is not a symbolic link\n",
            "\n",
            "Reading package lists... Done\n",
            "Building dependency tree... Done\n",
            "Reading state information... Done\n",
            "xvfb is already the newest version (2:21.1.4-2ubuntu1.7~22.04.10).\n",
            "0 upgraded, 0 newly installed, 0 to remove and 45 not upgraded.\n"
          ]
        }
      ]
    },
    {
      "cell_type": "code",
      "source": [
        "import numpy as np\n",
        "import matplotlib.pyplot as plt\n",
        "\n",
        "# Environment library\n",
        "import gymnasium\n",
        "\n",
        "# Rendering libraries\n",
        "from gymnasium.wrappers import RecordVideo\n",
        "import glob, io, base64\n",
        "from IPython.display import HTML\n",
        "from IPython import display as ipythondisplay"
      ],
      "metadata": {
        "id": "hbwcRXQE-oys"
      },
      "id": "hbwcRXQE-oys",
      "execution_count": 2,
      "outputs": []
    },
    {
      "cell_type": "markdown",
      "source": [
        "## Getting familiar with the cart-pole environment."
      ],
      "metadata": {
        "id": "EyZLq4fkLnwP"
      },
      "id": "EyZLq4fkLnwP"
    },
    {
      "cell_type": "markdown",
      "source": [
        "## The physical system\n",
        "\n",
        "<div>\n",
        "<img src=\"https://raw.githubusercontent.com/amazzoli/RL_introduction/main/notebooks/cartpole.png\" width=\"500\"/>\n",
        "</div>\n",
        "\n",
        "\n",
        "The goal of this environment is to balance the pole and keep it in the unstable vertical position.\n",
        "The algorithm observes four continuous variables, which constitute a **state space** $\\Omega = \\mathbb{R}^4$.\n",
        "They are\n",
        "- Cart Position, $x$\n",
        "- Cart Velocity, $\\dot{x}$\n",
        "- Pole Angle, $θ$\n",
        "- Pole Angular Velocity, $\\dot{\\theta}$\n",
        "\n",
        "The agent aims to balance the pole by applying a fixed small force in the left and right directions on the cart.\n",
        "This implies a discrete **action space** composed of two actions:\n",
        "- 0: push left\n",
        "- 1: push right\n",
        "\n",
        "The **transition probabilites**, which in this case are deterministic transitions, are contined in the `CartPole-v1` environment of the `gymnasium` library.\n",
        "They are based on the underlying physical model, but we ignore them going **model-free**, and trying just to learn from experience.\n",
        "\n",
        "A **reward** of +1 is granted to the agent at each step while the pole is kept upright.\n",
        "For practical reasons one can choose to set a fixed number of steps for the game to last (by defaut is 200 steps).\n",
        "The **return** (the cumulative reward discounted by the factor $\\gamma$) of the episdo cannot exceed this number.\n",
        "We will also choose a $\\gamma$ close to one.\n",
        "\n",
        "The episode ends under the following conditions:\n",
        "- *Termination*: Pole Angle is greater than ±12°\n",
        "- *Termination*: Cart Position is greater than ±2.4 (center of the cart reaches the edge of the display)\n",
        "- *Truncation*: Episode length exceeds a given number of steps as said above\n",
        "\n",
        "Notice that to maximize the return the agent is interested in maintaining the pole balanced as long as possible."
      ],
      "metadata": {
        "id": "TLtfqMSv_O1E"
      },
      "id": "TLtfqMSv_O1E"
    },
    {
      "cell_type": "code",
      "source": [
        "def run_cartpole(env, policy):\n",
        "  \"\"\"\n",
        "  Run one episode of the cart-pole with a given policy and return the\n",
        "  environment and the cumulated reward\n",
        "  \"\"\"\n",
        "  state, _ = env.reset()\n",
        "  terminated, truncated = False, False\n",
        "  ret = 0\n",
        "  while not (terminated or truncated):\n",
        "    action = policy(state)\n",
        "    state, reward, terminated, truncated, _ = env.step(action)\n",
        "    ret += reward\n",
        "  return env, ret\n",
        "\n",
        "\n",
        "def save_and_display_video(name_prefix, policy, display_it=True):\n",
        "  \"\"\"\n",
        "  A video of an episode of the cart-pole environment is saved in the local Colab\n",
        "  directory.\n",
        "  The passed policy is a function taking a state as argument (4d array of floats)\n",
        "  and returns an action (0 or 1).\n",
        "  \"\"\"\n",
        "\n",
        "  env = gymnasium.make('CartPole-v1', render_mode=\"rgb_array\")\n",
        "\n",
        "  # Setup the wrapper to record the video\n",
        "  env.metadata['render_fps'] = 30\n",
        "  env = RecordVideo(env, video_folder='./videos', name_prefix=name_prefix)\n",
        "\n",
        "  env, ret = run_cartpole(env, policy)\n",
        "  print('Episode lasted for', ret, 'steps')\n",
        "  env.close()\n",
        "\n",
        "\n",
        "  if display_it:\n",
        "    video = io.open(glob.glob('videos/'+name_prefix+'-episode-0.mp4')[0], 'r+b').read()\n",
        "    encoded = base64.b64encode(video)\n",
        "    ipythondisplay.display(HTML(data='''\n",
        "      <video width=\"640\" height=\"480\" controls>\n",
        "      <source src=\"data:video/mp4;base64,{0}\" type=\"video/mp4\" />\n",
        "      </video>\n",
        "      '''.format(encoded.decode('ascii'))))"
      ],
      "metadata": {
        "id": "kA299fKlG41_"
      },
      "id": "kA299fKlG41_",
      "execution_count": 3,
      "outputs": []
    },
    {
      "cell_type": "markdown",
      "source": [
        "There are two main functions that are used in the learning procedure:\n",
        "- `reset()`: initialize the cart pole in the initial configuration. It returns the initial state (4-dim array of floats) and an auxiliary information variable that we ignore.\n",
        "- `step(action)`: it makes one step in the physical simulation as a consequence of the passed action (an integer 0 or 1). It returns 5 variables: the new state, the reward, if the environment is terminated, if it is truncated and the auxiliary information."
      ],
      "metadata": {
        "id": "tf_bTjmREm-y"
      },
      "id": "tf_bTjmREm-y"
    },
    {
      "cell_type": "code",
      "source": [
        "# Creating the environment\n",
        "env = gymnasium.make('CartPole-v1', render_mode=\"rgb_array\")\n",
        "\n",
        "# Initializing\n",
        "state, _ = env.reset()\n",
        "print('initial state:', state)\n",
        "\n",
        "# Applying a force to the left, action=0\n",
        "state, reward, terminated, truncated, _ = env.step(0)\n",
        "print('new state:', state)\n",
        "print('reward:', reward)\n",
        "print('terminated, truncated:', terminated, truncated)\n",
        "\n",
        "env.close()"
      ],
      "metadata": {
        "colab": {
          "base_uri": "https://localhost:8080/"
        },
        "id": "K8HwiLcSFmL2",
        "outputId": "46291415-a092-4e5a-ba28-fb0e7ace5c67"
      },
      "id": "K8HwiLcSFmL2",
      "execution_count": 4,
      "outputs": [
        {
          "output_type": "stream",
          "name": "stdout",
          "text": [
            "initial state: [0.04891508 0.0327195  0.00066144 0.01031466]\n",
            "new state: [ 0.04956947 -0.16241193  0.00086773  0.3032062 ]\n",
            "reward: 1.0\n",
            "terminated, truncated: False False\n"
          ]
        }
      ]
    },
    {
      "cell_type": "markdown",
      "source": [
        "## Trying artificial policies\n",
        "\n",
        "We can play a bit with artificial policies.\n",
        "For example we can choose a completely random policy and check the typical number of steps the cart survives."
      ],
      "metadata": {
        "id": "E0S4yzrFG8f8"
      },
      "id": "E0S4yzrFG8f8"
    },
    {
      "cell_type": "code",
      "source": [
        "def rand_policy(state):\n",
        "  return np.random.choice([0,1])\n",
        "\n",
        "env = gymnasium.make('CartPole-v1', render_mode=\"rgb_array\")\n",
        "env, ret = run_cartpole(env, rand_policy)\n",
        "print('With a random policy the pole was balanced for', ret, 'episodes')\n",
        "\n",
        "\n",
        "def always_left(state):\n",
        "  return 0\n",
        "\n",
        "env = gymnasium.make('CartPole-v1', render_mode=\"rgb_array\")\n",
        "env, ret = run_cartpole(env, always_left)\n",
        "print('By pushing always left the pole was balanced for', ret, 'episodes')"
      ],
      "metadata": {
        "colab": {
          "base_uri": "https://localhost:8080/"
        },
        "id": "CUQnuX8o3-9F",
        "outputId": "9b4c3359-7b1c-4b59-ba35-266c18d12c8e"
      },
      "id": "CUQnuX8o3-9F",
      "execution_count": 5,
      "outputs": [
        {
          "output_type": "stream",
          "name": "stdout",
          "text": [
            "With a random policy the pole was balanced for 9.0 episodes\n",
            "By pushing always left the pole was balanced for 8.0 episodes\n"
          ]
        }
      ]
    },
    {
      "cell_type": "markdown",
      "source": [
        "We can also visualize the episode in a video by using the provided function."
      ],
      "metadata": {
        "id": "kTMhnXS4J_5X"
      },
      "id": "kTMhnXS4J_5X"
    },
    {
      "cell_type": "code",
      "source": [
        "save_and_display_video('rand', rand_policy, display_it=True)"
      ],
      "metadata": {
        "colab": {
          "base_uri": "https://localhost:8080/",
          "height": 625
        },
        "id": "560kDvimKhyn",
        "outputId": "89f7efbd-d9d2-4ef6-fdbc-135c0369dcba"
      },
      "id": "560kDvimKhyn",
      "execution_count": 6,
      "outputs": [
        {
          "output_type": "stream",
          "name": "stdout",
          "text": [
            "Moviepy - Building video /content/videos/rand-episode-0.mp4.\n",
            "Moviepy - Writing video /content/videos/rand-episode-0.mp4\n",
            "\n"
          ]
        },
        {
          "output_type": "stream",
          "name": "stderr",
          "text": []
        },
        {
          "output_type": "stream",
          "name": "stdout",
          "text": [
            "Moviepy - Done !\n",
            "Moviepy - video ready /content/videos/rand-episode-0.mp4\n",
            "Episode lasted for 18.0 steps\n"
          ]
        },
        {
          "output_type": "display_data",
          "data": {
            "text/plain": [
              "<IPython.core.display.HTML object>"
            ],
            "text/html": [
              "\n",
              "      <video width=\"640\" height=\"480\" controls>\n",
              "      <source src=\"data:video/mp4;base64,AAAAIGZ0eXBpc29tAAACAGlzb21pc28yYXZjMW1wNDEAAAAIZnJlZQAAC3ptZGF0AAACrgYF//+q3EXpvebZSLeWLNgg2SPu73gyNjQgLSBjb3JlIDE1OSByMjk5MSAxNzcxYjU1IC0gSC4yNjQvTVBFRy00IEFWQyBjb2RlYyAtIENvcHlsZWZ0IDIwMDMtMjAxOSAtIGh0dHA6Ly93d3cudmlkZW9sYW4ub3JnL3gyNjQuaHRtbCAtIG9wdGlvbnM6IGNhYmFjPTEgcmVmPTMgZGVibG9jaz0xOjA6MCBhbmFseXNlPTB4MzoweDExMyBtZT1oZXggc3VibWU9NyBwc3k9MSBwc3lfcmQ9MS4wMDowLjAwIG1peGVkX3JlZj0xIG1lX3JhbmdlPTE2IGNocm9tYV9tZT0xIHRyZWxsaXM9MSA4eDhkY3Q9MSBjcW09MCBkZWFkem9uZT0yMSwxMSBmYXN0X3Bza2lwPTEgY2hyb21hX3FwX29mZnNldD0tMiB0aHJlYWRzPTMgbG9va2FoZWFkX3RocmVhZHM9MSBzbGljZWRfdGhyZWFkcz0wIG5yPTAgZGVjaW1hdGU9MSBpbnRlcmxhY2VkPTAgYmx1cmF5X2NvbXBhdD0wIGNvbnN0cmFpbmVkX2ludHJhPTAgYmZyYW1lcz0zIGJfcHlyYW1pZD0yIGJfYWRhcHQ9MSBiX2JpYXM9MCBkaXJlY3Q9MSB3ZWlnaHRiPTEgb3Blbl9nb3A9MCB3ZWlnaHRwPTIga2V5aW50PTI1MCBrZXlpbnRfbWluPTI1IHNjZW5lY3V0PTQwIGludHJhX3JlZnJlc2g9MCByY19sb29rYWhlYWQ9NDAgcmM9Y3JmIG1idHJlZT0xIGNyZj0yMy4wIHFjb21wPTAuNjAgcXBtaW49MCBxcG1heD02OSBxcHN0ZXA9NCBpcF9yYXRpbz0xLjQwIGFxPTE6MS4wMACAAAABuGWIhAA3//728P4FNjuY0JcRzeidMx+/Fbi6NDe9zgAAAwAAAwAACNCLwW1jsC2M+AAABagA5AeIYoYAiYqxUCV5A84bvFIAiFXqnfjpD7R9sDDkYTmS3iWWtIjX+1zQqQWYDeQjhG4Olaz0/BlkWlaJsTkihule4KB/ClF/EC8/dULXpEF1F+AMsEp58X4ymz2UYfXQeqv3GtocdsZXIAmAu8HdMfhuP3lMaGQqE8xjVrWMT5wCBc5vu9Su1FOFu9ZsAez0VT5CHfrEHVPzMim6Agv9AQiU8LYcN6B/hs6ogAgZ6deBnw4YD7NqHWKJSW1nA5C1eY/c42pFNSfhrYU7sY+/xwZylOvR02SmO6iWYep8nyx1HwjZB/WY+1XFyWJdI0oEsydrbXU04HatGQC0TT68D4rWItANF7c4IhvdxV5LXedXbGdDicehbdwqb6jzZih3/k0AkP3mrXb5gWviE6rEHsCAhYeDX6ptMD7WjyKQslb8OjNEaBkHftyB+EPhQgAMezA4BgIXJHnDeDI0hhFmeew1joGdhXY7rbO8MV3ejxfFtHjauNrU68vwH6AAAAMAAA2ZAAAAjEGaJGxDf/6nhAAAEdOmMZ/ldqAJl2hgxrip8qHMNObhH8LP5C5dA4zfPug+EeGNgPEVG2I/EdRvbcMIOWKv/AjgAsFx/CCoGhFrs9XJASO1QNmtJQG7GQKufbOmCb2fd50DhnZwBqfOhVClwk00FLjyLIyz9hy23ljkshJr+oZk22ofOWYvbWJ4++dmAAAAUkGeQniFfwAADoAZOwyoml/CIriXwJcKAE4hltiorpjqkjAHOXH1Xec2RN/cMaBviN0am4TCmfmsaS/8z8P5xEJmrvyZIrznqEXJE1JCQZlgh4EAAAAdAZ5hdEJ/AAAS33XTBZ9Owq9OzUa70keTOFnjshMAAAAeAZ5jakJ/AAAHFBzV295+CerFV2T51u0WV+KTwa4FAAAA2UGaaEmoQWiZTAhv//6nhAAAElH+8l2zPNIAceQdaBfW7Ap8aHnPCk963xJTPfRiTGMyp8b14ui30zd4La5gcdx5H2ifvCBfpf4XDnmCW3SAMMeGsZ9vwQgkkfJgf+izV/BYhE+LUvkrK7MV1sGotDqAOFLMXi/Yyap97c0HXTs6gIjlZGa1KrvDEOYeQWoKce+VqunsWzQVgEPqknEEHQURUlQ/XFNF7lu8/Jf1JPmjtrRL4JMCp673bKzYNG0qcgB2WTgDr0m1cgcF85h5w7g1PuNX8778ZOEAAABbQZ6GRREsK/8AAA7bJHsVdHT5OB0nLRigcWeDN2mTbumEpYxi/YIPYPSr/vRNdIe6UBh8AJTnymsDuQQ7jcjQkQlDfa8wg7rppVGtM8vlZAAAAwAa3yUUMoB8wQAAACUBnqV0Qn8AABLWonAwX6YCWIASt1dxaSvSHSjDc+4u4bmRbR2xAAAAQAGep2pCfwAAE10cAniexl0H6jjC/dhB4UECWBf5S/USzvPAaUAJLHcRTqGsx6jUNbG9j2AHputGRw/YBiNjwYAAAACwQZqsSahBbJlMCGf//p4QAABHRFohyJ+wDg128gBaJ/gbqc2wta8WyLyxWtGKJ3jm/FNxaI2iTS0ZbB+fz7dq6Z0Fj//nDhPeSnel5BfmpEs9f9QuXeGI6htT+Iavrk6Gqpww44NWSCSTSn0101Q0cEKgOCYGTyeV68AsGx2xigH1ocOEaqDIzdgCREYlFLlc60BBVohTSRjrZSyZ6jQ0KfnTFyno42Jko4G/VVxHH9AAAABvQZ7KRRUsK/8AAA7Xc37YDBYX6w2z5hCjdy6DC/1SLVOdql/Suwx47vJPLi6pJZfz4xIWHyqnBw6XZwr26gBNW0rQ3Ya4xcCDXW5CxZXeNTMxa7G3GTqOvOv5hzmq5fL7CYAAAAMAABKLcWUYQN6BAAAAMwGe6XRCfwAAE18h/bg8UnxAaHGRG5WlPWvoZVKnOju8e1TCUsEbD7g2MQ0Z1ckpjtC2YAAAAEEBnutqQn8AABNYjDnBiLBxRjWjNN/bkwikDj1Moe4LSwXSw3Tvhr1rFTJdFSLipjxaFu/I/oQAmNkks9qVdy42zAAAAKVBmvBJqEFsmUwIX//+jLAAAEgBROCywA4qyz+5kPFtvhJw0lit7tUjF+csdWwUoxhj4L+bYhZQ34c7qiSNJKmm/f9LnpnvbTR5L0+ebWgxGeDc2oNWMgXJKTNHPnl/66pTFoql6RWpAuCy3s+s3xDFMfmdKNKE/6XNuJ8JTXoVmiUATq3PdTJ3x00U8QunPNMRj08vO8aYw3thrTJCoR6f00KGHMEAAAB4QZ8ORRUsK/8AAA7XSGNof2oTWQnpyrFG8fXhwb4oqNRJHm6h5seMxgA24W3MxNKwIvh+IU3PH4JwoTFLh4N7ZxcZCr9HR7tZXE2D3lD7u/xTW7fwfdIOleixvNPfodHfmaYEgSngT5gFTNdoec6pABTBe0nGEDehAAAAPgGfLXRCfwAAE1XsI+lOIs7QxEcX4hy4aqOVIJPTEEWeKO3ILtpBsWs3jei2Gp5aUBbawIdV+KjNK57n2vJBAAAAPgGfL2pCfwAAE2Ebqb5pFZM/fhEYMYBN5JbOc9A0sT1+3oXbhcUBE59VIPboySn4fWCnA6KdZ7QbYDM7z5JgAAAAfUGbMkmoQWyZTBRMJ//98QAAAwKw+fNTcalMwLOhptKYe8Poh+xiRNhZyMfnQALgzglCj/3j2K5VZErlKfa8f4kmMwxrfEO4rgk/Jx0l+DL2qLHHFcaB9N6bLWTPTRm0pHvRUo+mlxo1qJqET1Eo/p/WrW+yqr9Oa4XnaN8gAAAAYQGfUWpCfwAAE1blRyDIDuH37uNSMKcoWNQhdiQk3ZdlrUjE3iYw8ngKeK2R9KFPvHu/VTbqTXheCVdQ6blrPh5UzNLBZOuAAzyjuvlWKQ8YZsff9ytXPZqQBj/LRJ4QNSEAAAP3bW9vdgAAAGxtdmhkAAAAAAAAAAAAAAAAAAAD6AAAAnoAAQAAAQAAAAAAAAAAAAAAAAEAAAAAAAAAAAAAAAAAAAABAAAAAAAAAAAAAAAAAABAAAAAAAAAAAAAAAAAAAAAAAAAAAAAAAAAAAAAAAAAAgAAAyF0cmFrAAAAXHRraGQAAAADAAAAAAAAAAAAAAABAAAAAAAAAnoAAAAAAAAAAAAAAAAAAAAAAAEAAAAAAAAAAAAAAAAAAAABAAAAAAAAAAAAAAAAAABAAAAAAlgAAAGQAAAAAAAkZWR0cwAAABxlbHN0AAAAAAAAAAEAAAJ6AAAEAAABAAAAAAKZbWRpYQAAACBtZGhkAAAAAAAAAAAAAAAAAAA8AAAAJgBVxAAAAAAALWhkbHIAAAAAAAAAAHZpZGUAAAAAAAAAAAAAAABWaWRlb0hhbmRsZXIAAAACRG1pbmYAAAAUdm1oZAAAAAEAAAAAAAAAAAAAACRkaW5mAAAAHGRyZWYAAAAAAAAAAQAAAAx1cmwgAAAAAQAAAgRzdGJsAAAAmHN0c2QAAAAAAAAAAQAAAIhhdmMxAAAAAAAAAAEAAAAAAAAAAAAAAAAAAAAAAlgBkABIAAAASAAAAAAAAAABAAAAAAAAAAAAAAAAAAAAAAAAAAAAAAAAAAAAAAAAAAAAGP//AAAAMmF2Y0MBZAAe/+EAGWdkAB6s2UCYM+XhAAADAAEAAAMAPA8WLZYBAAZo6+PLIsAAAAAYc3R0cwAAAAAAAAABAAAAEwAAAgAAAAAUc3RzcwAAAAAAAAABAAAAAQAAAKhjdHRzAAAAAAAAABMAAAABAAAEAAAAAAEAAAoAAAAAAQAABAAAAAABAAAAAAAAAAEAAAIAAAAAAQAACgAAAAABAAAEAAAAAAEAAAAAAAAAAQAAAgAAAAABAAAKAAAAAAEAAAQAAAAAAQAAAAAAAAABAAACAAAAAAEAAAoAAAAAAQAABAAAAAABAAAAAAAAAAEAAAIAAAAAAQAABgAAAAABAAACAAAAABxzdHNjAAAAAAAAAAEAAAABAAAAEwAAAAEAAABgc3RzegAAAAAAAAAAAAAAEwAABG4AAACQAAAAVgAAACEAAAAiAAAA3QAAAF8AAAApAAAARAAAALQAAABzAAAANwAAAEUAAACpAAAAfAAAAEIAAABCAAAAgQAAAGUAAAAUc3RjbwAAAAAAAAABAAAAMAAAAGJ1ZHRhAAAAWm1ldGEAAAAAAAAAIWhkbHIAAAAAAAAAAG1kaXJhcHBsAAAAAAAAAAAAAAAALWlsc3QAAAAlqXRvbwAAAB1kYXRhAAAAAQAAAABMYXZmNTguMjkuMTAw\" type=\"video/mp4\" />\n",
              "      </video>\n",
              "      "
            ]
          },
          "metadata": {}
        }
      ]
    },
    {
      "cell_type": "markdown",
      "source": [
        "You can try some artificial policies based on your physical intuition.\n",
        "It shouldn't be hard to be better than a random strategy, but probably is not so easy to reach the end of the episode..."
      ],
      "metadata": {
        "id": "eG40aiIpNBSV"
      },
      "id": "eG40aiIpNBSV"
    },
    {
      "cell_type": "code",
      "source": [
        "def my_policy(state):\n",
        "  \"\"\"\n",
        "  If the pole is bending towards the left-right I push left-right\n",
        "  \"\"\"\n",
        "  if state[2] < 0:\n",
        "    return 0\n",
        "  else:\n",
        "    return 1\n",
        "\n",
        "save_and_display_video('my_policy', my_policy, display_it=True)"
      ],
      "metadata": {
        "colab": {
          "base_uri": "https://localhost:8080/",
          "height": 660
        },
        "id": "11ZlF48PMQeB",
        "outputId": "606d2d87-75ed-4ec2-fbef-54cc4470974d"
      },
      "id": "11ZlF48PMQeB",
      "execution_count": 7,
      "outputs": [
        {
          "output_type": "stream",
          "name": "stderr",
          "text": [
            "/usr/local/lib/python3.10/dist-packages/gymnasium/wrappers/record_video.py:94: UserWarning: \u001b[33mWARN: Overwriting existing videos at /content/videos folder (try specifying a different `video_folder` for the `RecordVideo` wrapper if this is not desired)\u001b[0m\n",
            "  logger.warn(\n"
          ]
        },
        {
          "output_type": "stream",
          "name": "stdout",
          "text": [
            "Moviepy - Building video /content/videos/my_policy-episode-0.mp4.\n",
            "Moviepy - Writing video /content/videos/my_policy-episode-0.mp4\n",
            "\n"
          ]
        },
        {
          "output_type": "stream",
          "name": "stderr",
          "text": []
        },
        {
          "output_type": "stream",
          "name": "stdout",
          "text": [
            "Moviepy - Done !\n",
            "Moviepy - video ready /content/videos/my_policy-episode-0.mp4\n",
            "Episode lasted for 38.0 steps\n"
          ]
        },
        {
          "output_type": "display_data",
          "data": {
            "text/plain": [
              "<IPython.core.display.HTML object>"
            ],
            "text/html": [
              "\n",
              "      <video width=\"640\" height=\"480\" controls>\n",
              "      <source src=\"data:video/mp4;base64,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\" type=\"video/mp4\" />\n",
              "      </video>\n",
              "      "
            ]
          },
          "metadata": {}
        }
      ]
    },
    {
      "cell_type": "code",
      "execution_count": 8,
      "id": "d371fb91",
      "metadata": {
        "id": "d371fb91"
      },
      "outputs": [],
      "source": [
        "# Import pytorch\n",
        "import torch\n",
        "import torch.nn as nn\n",
        "import torch.optim as optim\n",
        "\n",
        "from collections import namedtuple, deque"
      ]
    },
    {
      "cell_type": "markdown",
      "id": "825ceeb8",
      "metadata": {
        "id": "825ceeb8"
      },
      "source": [
        "## Deep Q-Learning\n",
        "\n",
        "### Idea and definition of the Neural Network\n",
        "\n",
        "We want to find an \"optimal\" policy with **Deep Q-Learning**.\n",
        "The idea of this model-free approach is to use a Neural Network as a function-approximator for the Quality function, the so-called **Deep-Q Network (DQN)** .\n",
        "\n",
        "The neural network has a number of input nodes equal to the number of state-dimensions, in our case 4 input nodes.\n",
        "The number of output nodes correspond to the number of actions (2 in our case).\n",
        "The idea is that, given an input $s = (x, \\dot{x}, \\theta, \\dot{\\theta})$, the output of node 0 correspond to our estimate of $Q(s, \\text{push left}=0)$, and similarly for the node 1 and $Q(s, \\text{push right}=1)$.\n",
        "\n",
        "As for the tabular Q-Learning the object that we want to minimize is the Bellman equation evaluated in one sample.\n",
        "If we call $e = (s_t, a_t, R_t, S_{t+1})$ the *experience* of a transition, we can define the \"error\" in satisfying the optimality equation as:\n",
        "\n",
        "$$\n",
        "\\delta_e = R_t + \\gamma \\max_{b \\in \\mathcal{A}} Q(S_{t+1}, b) - Q(s_t, a_t)\n",
        "$$\n",
        "\n",
        "In general, given a set of experiences $\\{ e_i \\}$ we can define the loss function as Mean Square Error of the errors:\n",
        "\n",
        "$$\n",
        "\\mathcal{L} = \\sum_i \\delta_{e_i}^2 .\n",
        "$$\n",
        "\n",
        "The minimization of this function trains the NN to be a good approximator of a quality function that satisfy the Bellman equation.\n",
        "\n",
        "Let us start to define our network, and then we will discuss on how to concretely implement this training.\n",
        "The choosen architecture is a very simple fully connected network with three hidden layers havin 16 nodes and a ReLU activation function.\n"
      ]
    },
    {
      "cell_type": "code",
      "execution_count": 9,
      "id": "b8ab7512",
      "metadata": {
        "id": "b8ab7512"
      },
      "outputs": [],
      "source": [
        "class FullyConnectedModel(nn.Module):\n",
        "    def __init__(self, input_size, output_size):\n",
        "        super(FullyConnectedModel, self).__init__()\n",
        "\n",
        "        # Define layers with ReLU activation\n",
        "        self.linear1 = nn.Linear(input_size, 16)\n",
        "        self.activation1 = nn.ReLU()\n",
        "        self.linear2 = nn.Linear(16, 16)\n",
        "        self.activation2 = nn.ReLU()\n",
        "        self.linear3 = nn.Linear(16, 16)\n",
        "        self.activation3 = nn.ReLU()\n",
        "\n",
        "        # Output layer without activation function\n",
        "        self.output_layer = nn.Linear(16, output_size)\n",
        "\n",
        "        # Initialization using Xavier uniform (a popular technique for initializing weights in NNs)\n",
        "        nn.init.xavier_uniform_(self.linear1.weight)\n",
        "        nn.init.xavier_uniform_(self.linear2.weight)\n",
        "        nn.init.xavier_uniform_(self.linear3.weight)\n",
        "        nn.init.xavier_uniform_(self.output_layer.weight)\n",
        "\n",
        "    def forward(self, inputs):\n",
        "        # Forward pass through the layers\n",
        "        x = self.activation1(self.linear1(inputs))\n",
        "        x = self.activation2(self.linear2(x))\n",
        "        x = self.activation3(self.linear3(x))\n",
        "        x = self.output_layer(x)\n",
        "        return x\n",
        "\n",
        "\n",
        "class QNetwork:\n",
        "    def __init__(self, lr, logdir=None):\n",
        "        # Define Q-network with specified architecture\n",
        "        self.net = FullyConnectedModel(4, 2)\n",
        "        self.optimizer = optim.Adam(self.net.parameters(), lr=lr(0))\n",
        "\n",
        "    def update_lr(self, lr):\n",
        "        for g in self.optimizer.param_groups:\n",
        "            g['lr'] = lr"
      ]
    },
    {
      "cell_type": "markdown",
      "id": "8b8800e5",
      "metadata": {
        "id": "8b8800e5"
      },
      "source": [
        "### Replay Memory\n",
        "\n",
        "Next, we introduce one of the key components: Experience Replay.\n",
        "\n",
        "While deep learning models or other complex ML models for estimating a value function may seem appealing, they did not enjoy success in RL for a long time until Experience Replay was introduced. This is due to a correlation within the training dataset, since consecutive samples collected during the agent's interactions with the environment in RL are highly correlated.\n",
        "This breaks the i.i.d .assumption for the training data, causing issues in fitting the model.\n",
        "\n",
        "Experience Replay mitigates this temporal correlation by randomly sampling experiences from a replay memory, that we call $B = \\{ e_i \\}$.\n",
        "This set is first initialized by choosing random actions and accumulating experiences until a given `burn_in` number of expreiences is reached.\n",
        "Later, when the training starts, on each iteration, we store the new observation. Note that we impose a maximum number of experiences, `memory_size`, therefore, after this number is reached, old experiences start to be discarded.\n",
        "\n",
        "At each iteration, a number of experiences `batch_size` is sampled from the memory, creating a set $B'$ and used to update the network by minimizing:\n",
        "\n",
        "$$\n",
        "\\mathcal{L} = \\sum_{e \\in B'} \\delta_{e}^2 .\n",
        "$$\n",
        "\n",
        "\n",
        "Let's set up the replay memory.\n"
      ]
    },
    {
      "cell_type": "code",
      "execution_count": 10,
      "id": "05af9a76",
      "metadata": {
        "id": "05af9a76"
      },
      "outputs": [],
      "source": [
        "import random\n",
        "Transition = namedtuple('Transition', ('state', 'action', 'next_state', 'reward'))\n",
        "\n",
        "class ReplayMemory:\n",
        "    def __init__(self, memory_size=50000, burn_in=10000):\n",
        "        # Initializes the replay memory, which stores transitions recorded from the agent taking actions in the environment.\n",
        "        self.memory_size = memory_size\n",
        "        self.burn_in = burn_in\n",
        "        self.memory = deque([], maxlen=memory_size)\n",
        "\n",
        "    def burn_in_init(self, env):\n",
        "        # Initialize replay memory with a burn-in number of episodes/transitions.\n",
        "        terminated, truncated = False, False\n",
        "        state, _ = env.reset(seed=random.randint(0,100000))\n",
        "        state = torch.tensor(state, dtype=torch.float32).unsqueeze(0)\n",
        "\n",
        "        for _ in range(self.burn_in):\n",
        "            # Reset environment if terminated or truncated\n",
        "            if terminated or truncated:\n",
        "                state, _ = env.reset(seed=random.randint(0,100000))\n",
        "                state = torch.tensor(state, dtype=torch.float32).unsqueeze(0)\n",
        "\n",
        "            # Randomly select an action (left or right) and take a step\n",
        "            action = torch.tensor(random.sample([0, 1], 1)[0]).reshape(1, 1)\n",
        "            next_state, reward, terminated, truncated, _ = env.step(action.item())\n",
        "            reward = torch.tensor([reward])\n",
        "            if terminated:\n",
        "                next_state = None\n",
        "            else:\n",
        "                next_state = torch.tensor(next_state, dtype=torch.float32).unsqueeze(0)\n",
        "\n",
        "            # Store new experience into memory\n",
        "            transition = Transition(state, action, next_state, reward)\n",
        "            self.append(transition)\n",
        "            state = next_state\n",
        "\n",
        "    def sample_batch(self, batch_size):\n",
        "        # Returns a batch of randomly sampled transitions to be used for training the model.\n",
        "        return random.sample(self.memory, batch_size)\n",
        "\n",
        "    def append(self, transition):\n",
        "        # Appends a transition to the replay memory.\n",
        "        self.memory.append(transition)"
      ]
    },
    {
      "cell_type": "markdown",
      "id": "feef98c3",
      "metadata": {
        "id": "feef98c3"
      },
      "source": [
        "### Learning Cycle\n",
        "\n",
        "The pseudo-algorithm for our training is the following.\n",
        "Notice that the we keep some \"explorative noise\" by choosing actions according to an *epsilon-greedy* policy.\n",
        "\n",
        "\n",
        "1. Initialize Q-network.\n",
        "2. Initialize Replay Memory with `burn-in` experiences taken a random action policy.\n",
        "3. Initialize/reset the environment.\n",
        "4. For each episode from 1 to `n_episodes`:\n",
        "    1. Choose an action based on the current Q-value estimate with probability 1 - `epsilon`.\n",
        "    2. Take a step and observe the next state and reward.\n",
        "    3. Store the new experience into the replay memory and possibly discard an old one.\n",
        "    4. Sample a minibatch with size `batch_size` from the memory.\n",
        "    5. Train the network with the batched dataset.\n",
        "5. Every `eval_step` episodes, perform 20 test episodes to evaluate the performance of the current agent."
      ]
    },
    {
      "cell_type": "code",
      "execution_count": 11,
      "id": "aee0c0bf",
      "metadata": {
        "id": "aee0c0bf"
      },
      "outputs": [],
      "source": [
        "class DQN_Agent:\n",
        "\n",
        "    def __init__(self, environment_name, lr, batch_size=32, gamma=0.99, rand_seed=0):\n",
        "        # Create environment\n",
        "        self.env = gymnasium.make(environment_name)\n",
        "        self.rand_seed = rand_seed\n",
        "        # Create the quality network\n",
        "        self.policy_net = QNetwork(lr)\n",
        "        # Create and initialize the memory\n",
        "        self.rm = ReplayMemory()\n",
        "        self.rm.burn_in_init(self.env)\n",
        "        # Store the parameters\n",
        "        self.lr = lr # The leraning rate is a function of the episode number\n",
        "        self.batch_size = batch_size\n",
        "        self.gamma = gamma\n",
        "\n",
        "\n",
        "    def train(self, episode):\n",
        "\n",
        "        # Scheduling the learning rate\n",
        "        self.policy_net.update_lr(self.lr(episode))\n",
        "\n",
        "        state, _ = self.env.reset(seed=random.randint(0,100000)) # seeding\n",
        "        state = torch.tensor(state, dtype=torch.float32).unsqueeze(0)\n",
        "        terminated, truncated = False, False\n",
        "\n",
        "        while not (terminated or truncated):\n",
        "            with torch.no_grad():\n",
        "                q_values = self.policy_net.net(state)\n",
        "\n",
        "            # Decide the next action with epsilon greedy strateg\n",
        "            action = self.epsilon_greedy_policy(q_values).reshape(1, 1)\n",
        "\n",
        "            # Take action and observe reward and next state\n",
        "            next_state, reward, terminated, truncated, _ = self.env.step(action.item())\n",
        "            reward = torch.tensor([reward])\n",
        "            if terminated:\n",
        "                next_state = None\n",
        "            else:\n",
        "                next_state = torch.tensor(next_state, dtype=torch.float32).unsqueeze(0)\n",
        "\n",
        "            # Store the new experience\n",
        "            transition = Transition(state, action, next_state, reward)\n",
        "            self.rm.memory.append(transition)\n",
        "\n",
        "            # Move to the next state\n",
        "            state = next_state\n",
        "\n",
        "            # Sample minibatch with size N from memory\n",
        "            transitions = self.rm.sample_batch(self.batch_size)\n",
        "            batch = Transition(*zip(*transitions))\n",
        "            non_final_mask = torch.tensor(tuple(map(lambda s: s is not None, batch.next_state)), dtype=torch.bool)\n",
        "            non_final_next_states = torch.cat([s for s in batch.next_state if s is not None])\n",
        "            state_batch = torch.cat(batch.state)\n",
        "            action_batch = torch.cat(batch.action)\n",
        "            reward_batch = torch.cat(batch.reward)\n",
        "\n",
        "            # Get current and next state values\n",
        "            state_action_values = self.policy_net.net(state_batch).gather(1, action_batch) # extract values corresponding to the actions Q(S_t, A_t)\n",
        "            next_state_values = torch.zeros(self.batch_size)\n",
        "\n",
        "            with torch.no_grad():\n",
        "                next_state_values[non_final_mask] = self.policy_net.net(non_final_next_states).max(1)[0] # extract max value\n",
        "\n",
        "            # Update the model\n",
        "            expected_state_action_values = (next_state_values * self.gamma) + reward_batch\n",
        "            criterion = torch.nn.MSELoss()\n",
        "            loss = criterion(state_action_values, expected_state_action_values.unsqueeze(1))\n",
        "            self.policy_net.optimizer.zero_grad()\n",
        "            loss.backward()\n",
        "            self.policy_net.optimizer.step()\n",
        "\n",
        "\n",
        "    def test(self, model_file=None):\n",
        "        # Evaluates the performance of the agent\n",
        "        max_t = 200\n",
        "        state, _ = self.env.reset(seed=random.randint(0,100000))\n",
        "        rewards = []\n",
        "\n",
        "        for t in range(max_t):\n",
        "            state = torch.from_numpy(state).float().unsqueeze(0)\n",
        "            with torch.no_grad():\n",
        "                q_values = self.policy_net.net(state)\n",
        "            # Greedy policy for the evaluation\n",
        "            action = self.greedy_policy(q_values)\n",
        "            state, reward, terminated, truncated, _ = self.env.step(action.item())\n",
        "            rewards.append(reward)\n",
        "            if terminated or truncated:\n",
        "                break\n",
        "\n",
        "        return np.sum(rewards)\n",
        "\n",
        "\n",
        "    def epsilon_greedy_policy(self, q_values, epsilon=0.05):\n",
        "        # Implement an epsilon-greedy policy.\n",
        "        p = random.random()\n",
        "        if p > epsilon:\n",
        "            with torch.no_grad():\n",
        "                return self.greedy_policy(q_values)\n",
        "        else:\n",
        "            return torch.tensor([random.randint(0,1)], dtype=torch.long)\n",
        "\n",
        "\n",
        "    def greedy_policy(self, q_values):\n",
        "        # Implement a greedy policy for test time.\n",
        "        return torch.argmax(q_values)\n",
        "\n",
        "\n",
        "    def get_greedy_action(self, state):\n",
        "        state = torch.from_numpy(state).float().unsqueeze(0)\n",
        "        with torch.no_grad():\n",
        "            q_values = self.policy_net.net(state)\n",
        "        return int(self.greedy_policy(q_values))"
      ]
    },
    {
      "cell_type": "markdown",
      "id": "ff675006",
      "metadata": {
        "id": "ff675006"
      },
      "source": [
        "### Train and Test DQN Agent\n",
        "\n",
        "Let's train a DQN agent to evaluate its performance on the CartPole-v0 environment. In this environment, the maximum achievable reward for an agent in each episode is 200. We will train the model over `num_episodes_train` episodes, evaluating its performance every `eval_step` episodes with an additional `num_episodes_eval` test episodes.\n",
        "\n",
        "This training process will be repeated in parallel `num_trials` times, allowing us to assess the average performance of the agent across episodes.\n",
        "\n",
        "Please note that this section may take several minutes to complete.\n"
      ]
    },
    {
      "cell_type": "code",
      "execution_count": 25,
      "id": "1d0bae4c",
      "metadata": {
        "colab": {
          "base_uri": "https://localhost:8080/"
        },
        "id": "1d0bae4c",
        "outputId": "f7d7955a-d197-4619-aee2-42ade70f2010"
      },
      "outputs": [
        {
          "output_type": "stream",
          "name": "stdout",
          "text": [
            "Trial  1\n",
            "The test reward for episode 1 is 9.166666666666666 with a standard deviation of 0.6368324391514265.\n",
            "The test reward for episode 26 is 9.5 with a standard deviation of 0.7637626158259734.\n",
            "The test reward for episode 51 is 9.633333333333333 with a standard deviation of 0.752034278178565.\n",
            "The test reward for episode 76 is 9.2 with a standard deviation of 0.8326663997864531.\n",
            "The test reward for episode 101 is 67.66666666666667 with a standard deviation of 24.16379293258591.\n",
            "The test reward for episode 126 is 164.56666666666666 with a standard deviation of 38.49388118764968.\n",
            "The test reward for episode 151 is 150.86666666666667 with a standard deviation of 32.543031341423756.\n",
            "The test reward for episode 176 is 134.3 with a standard deviation of 43.289837144530814.\n",
            "The test reward for episode 201 is 131.0 with a standard deviation of 42.067406226990826.\n",
            "The test reward for episode 226 is 121.56666666666666 with a standard deviation of 28.81398194549923.\n",
            "The test reward for episode 250 is 154.06666666666666 with a standard deviation of 33.194310088059105.\n",
            "Trial  2\n",
            "The test reward for episode 1 is 11.133333333333333 with a standard deviation of 1.2840906856172152.\n",
            "The test reward for episode 26 is 9.6 with a standard deviation of 0.7571877794400363.\n",
            "The test reward for episode 51 is 9.4 with a standard deviation of 0.6633249580710799.\n",
            "The test reward for episode 76 is 9.1 with a standard deviation of 0.6506407098647712.\n",
            "The test reward for episode 101 is 9.233333333333333 with a standard deviation of 0.7608474807008885.\n",
            "The test reward for episode 126 is 25.633333333333333 with a standard deviation of 4.110825815926636.\n",
            "The test reward for episode 151 is 43.3 with a standard deviation of 4.817675788178362.\n",
            "The test reward for episode 176 is 191.73333333333332 with a standard deviation of 11.715896133980626.\n",
            "The test reward for episode 201 is 200.0 with a standard deviation of 0.0.\n",
            "The test reward for episode 226 is 200.0 with a standard deviation of 0.0.\n",
            "The test reward for episode 250 is 200.0 with a standard deviation of 0.0.\n",
            "Trial  3\n",
            "The test reward for episode 1 is 9.166666666666666 with a standard deviation of 0.6871842709362768.\n",
            "The test reward for episode 26 is 9.2 with a standard deviation of 0.7483314773547882.\n",
            "The test reward for episode 51 is 9.4 with a standard deviation of 0.7571877794400365.\n",
            "The test reward for episode 76 is 9.066666666666666 with a standard deviation of 0.7717224601860151.\n",
            "The test reward for episode 101 is 38.1 with a standard deviation of 8.162311764036788.\n",
            "The test reward for episode 126 is 72.23333333333333 with a standard deviation of 19.167130429171937.\n",
            "The test reward for episode 151 is 200.0 with a standard deviation of 0.0.\n",
            "The test reward for episode 176 is 200.0 with a standard deviation of 0.0.\n",
            "The test reward for episode 201 is 200.0 with a standard deviation of 0.0.\n",
            "The test reward for episode 226 is 193.13333333333333 with a standard deviation of 13.333499998958347.\n",
            "The test reward for episode 250 is 198.33333333333334 with a standard deviation of 8.975274678557508.\n",
            "Trial  4\n",
            "The test reward for episode 1 is 9.233333333333333 with a standard deviation of 0.6155395104206463.\n",
            "The test reward for episode 26 is 9.166666666666666 with a standard deviation of 0.7340905181848414.\n",
            "The test reward for episode 51 is 9.433333333333334 with a standard deviation of 0.7156970184527963.\n",
            "The test reward for episode 76 is 44.53333333333333 with a standard deviation of 11.839857356498102.\n",
            "The test reward for episode 101 is 16.166666666666668 with a standard deviation of 2.2223611067711047.\n",
            "The test reward for episode 126 is 30.1 with a standard deviation of 5.3188344587888805.\n",
            "The test reward for episode 151 is 57.6 with a standard deviation of 18.271288952889996.\n",
            "The test reward for episode 176 is 118.06666666666666 with a standard deviation of 31.471609781233344.\n",
            "The test reward for episode 201 is 177.0 with a standard deviation of 24.855582873873626.\n",
            "The test reward for episode 226 is 186.36666666666667 with a standard deviation of 20.509320374459563.\n",
            "The test reward for episode 250 is 190.0 with a standard deviation of 14.603652511158524.\n",
            "Trial  5\n",
            "The test reward for episode 1 is 14.966666666666667 with a standard deviation of 2.213343373471204.\n",
            "The test reward for episode 26 is 9.266666666666667 with a standard deviation of 0.7272474743090476.\n",
            "The test reward for episode 51 is 9.333333333333334 with a standard deviation of 0.6497862896539308.\n",
            "The test reward for episode 76 is 9.7 with a standard deviation of 0.9363047936792093.\n",
            "The test reward for episode 101 is 14.3 with a standard deviation of 1.9689252567496478.\n",
            "The test reward for episode 126 is 45.8 with a standard deviation of 13.553351369064897.\n",
            "The test reward for episode 151 is 190.53333333333333 with a standard deviation of 22.697625915990027.\n",
            "The test reward for episode 176 is 171.36666666666667 with a standard deviation of 23.5478000859717.\n",
            "The test reward for episode 201 is 167.2 with a standard deviation of 22.196696450898575.\n",
            "The test reward for episode 226 is 187.93333333333334 with a standard deviation of 21.37433559721149.\n",
            "The test reward for episode 250 is 182.43333333333334 with a standard deviation of 23.451628704396818.\n"
          ]
        }
      ],
      "source": [
        "# seeding for reproducibility\n",
        "torch.manual_seed(10)\n",
        "random.seed(10)\n",
        "\n",
        "# Set environment and training parameters\n",
        "num_episodes_train = 250\n",
        "eval_step = 25\n",
        "num_episodes_eval = 30\n",
        "\n",
        "# Training in parallel for a given number of trials\n",
        "num_trials = 5\n",
        "res = np.zeros((num_trials, num_episodes_train // eval_step + 1))\n",
        "\n",
        "# Scheduling the learing rate to reduce fluctuations in the final part of the training\n",
        "def learning_rate(episode):\n",
        "    if episode < 175:\n",
        "      return 5e-4\n",
        "    else:\n",
        "      return 2e-4\n",
        "\n",
        "\n",
        "# Loop over multiple trials\n",
        "for i in range(num_trials):\n",
        "    print('Trial ', i+1)\n",
        "\n",
        "    reward_means = []\n",
        "\n",
        "    # Create an instance of the DQN_Agent class\n",
        "    agent = DQN_Agent('CartPole-v1', lr=learning_rate)\n",
        "\n",
        "    # Training loop\n",
        "    for m in range(num_episodes_train):\n",
        "        agent.train(m)\n",
        "\n",
        "        # Evaluate the agent\n",
        "        if m % eval_step == 0 or m == num_episodes_train-1:\n",
        "            G = np.zeros(num_episodes_eval)\n",
        "            for k in range(num_episodes_eval):\n",
        "                G[k] = agent.test()\n",
        "\n",
        "            reward_mean = G.mean()\n",
        "            print(f\"The test reward for episode {m+1} is {reward_mean} with a standard deviation of {G.std()}.\")\n",
        "            reward_means.append(reward_mean)\n",
        "\n",
        "    res[i] = np.array(reward_means)"
      ]
    },
    {
      "cell_type": "code",
      "source": [
        "for traj in res:\n",
        "  plt.plot(np.linspace(0, num_episodes_train, len(traj)), traj)\n",
        "plt.xlabel('Episode', fontsize=15)\n",
        "plt.ylabel('Avg. Return', fontsize=15)"
      ],
      "metadata": {
        "colab": {
          "base_uri": "https://localhost:8080/",
          "height": 492
        },
        "id": "0yBC_t9FlGkc",
        "outputId": "5ca86b13-5f5b-4006-89ae-baa98c3b78b3"
      },
      "id": "0yBC_t9FlGkc",
      "execution_count": 26,
      "outputs": [
        {
          "output_type": "execute_result",
          "data": {
            "text/plain": [
              "Text(0, 0.5, 'Avg. Return')"
            ]
          },
          "metadata": {},
          "execution_count": 26
        },
        {
          "output_type": "display_data",
          "data": {
            "text/plain": [
              "<Figure size 640x480 with 1 Axes>"
            ],
            "image/png": "[encoded data removed]"
          },
          "metadata": {}
        }
      ]
    },
    {
      "cell_type": "code",
      "source": [
        "torch.manual_seed(0)\n",
        "random.seed(0)\n",
        "save_and_display_video('DQN', agent.get_greedy_action, display_it=True)"
      ],
      "metadata": {
        "colab": {
          "base_uri": "https://localhost:8080/",
          "height": 625
        },
        "id": "PIFMfnwFVwcd",
        "outputId": "b7c6a6fe-28ac-48e2-9854-aa41b6140cd0"
      },
      "id": "PIFMfnwFVwcd",
      "execution_count": 27,
      "outputs": [
        {
          "output_type": "stream",
          "name": "stdout",
          "text": [
            "Moviepy - Building video /content/videos/DQN-episode-0.mp4.\n",
            "Moviepy - Writing video /content/videos/DQN-episode-0.mp4\n",
            "\n"
          ]
        },
        {
          "output_type": "stream",
          "name": "stderr",
          "text": []
        },
        {
          "output_type": "stream",
          "name": "stdout",
          "text": [
            "Moviepy - Done !\n",
            "Moviepy - video ready /content/videos/DQN-episode-0.mp4\n",
            "Episode lasted for 199.0 steps\n"
          ]
        },
        {
          "output_type": "display_data",
          "data": {
            "text/plain": [
              "<IPython.core.display.HTML object>"
            ],
            "text/html": [
              "\n",
              "      <video width=\"640\" height=\"480\" controls>\n",
              "      <source src=\"data:video/mp4;base64,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\" type=\"video/mp4\" />\n",
              "      </video>\n",
              "      "
            ]
          },
          "metadata": {}
        }
      ]
    },
    {
      "cell_type": "code",
      "source": [],
      "metadata": {
        "id": "oQWQWXQF3tun"
      },
      "id": "oQWQWXQF3tun",
      "execution_count": null,
      "outputs": []
    }
  ],
  "metadata": {
    "kernelspec": {
      "display_name": "Python 3.7 (py37)",
      "language": "python",
      "name": "py37"
    },
    "language_info": {
      "codemirror_mode": {
        "name": "ipython",
        "version": 3
      },
      "file_extension": ".py",
      "mimetype": "text/x-python",
      "name": "python",
      "nbconvert_exporter": "python",
      "pygments_lexer": "ipython3",
      "version": "3.7.16"
    },
    "colab": {
      "provenance": [],
      "include_colab_link": true
    }
  },
  "nbformat": 4,
  "nbformat_minor": 5
}